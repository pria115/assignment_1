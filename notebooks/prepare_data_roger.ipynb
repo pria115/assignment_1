{
 "cells": [
  {
   "cell_type": "code",
   "execution_count": 4,
   "metadata": {
    "collapsed": true
   },
   "outputs": [],
   "source": [
    "import pandas as pd\n",
    "import numpy as np\n",
    "from pathlib import Path\n",
    "from sklearn.preprocessing import StandardScaler\n",
    "from sklearn.model_selection import train_test_split\n",
    "from joblib import dump\n",
    "from src.data.make_dataset import download_data\n",
    "from src.data.make_dataset import separate_target"
   ]
  },
  {
   "cell_type": "markdown",
   "source": [
    "# Set paths"
   ],
   "metadata": {
    "collapsed": false,
    "pycharm": {
     "name": "#%% md\n"
    }
   }
  },
  {
   "cell_type": "code",
   "execution_count": 3,
   "outputs": [],
   "source": [
    "project_dir = Path.cwd().parent\n",
    "data_dir = project_dir / 'data'\n",
    "raw_data_dir = data_dir / 'raw'\n",
    "interim_data_dir = data_dir / 'interim'"
   ],
   "metadata": {
    "collapsed": false,
    "pycharm": {
     "name": "#%%\n"
    }
   }
  },
  {
   "cell_type": "markdown",
   "source": [
    "# Download data"
   ],
   "metadata": {
    "collapsed": false,
    "pycharm": {
     "name": "#%% md\n"
    }
   }
  },
  {
   "cell_type": "code",
   "execution_count": 5,
   "outputs": [],
   "source": [
    "competition = 'uts-advdsi-nba-career-prediction'\n",
    "download_data(competition=competition,\n",
    "              path=raw_data_dir,\n",
    "              unzip=True)"
   ],
   "metadata": {
    "collapsed": false,
    "pycharm": {
     "name": "#%%\n"
    }
   }
  },
  {
   "cell_type": "markdown",
   "source": [
    "# Load data"
   ],
   "metadata": {
    "collapsed": false,
    "pycharm": {
     "name": "#%% md\n"
    }
   }
  },
  {
   "cell_type": "code",
   "execution_count": 10,
   "outputs": [
    {
     "data": {
      "text/plain": "         Id  GP   MIN   PTS  FGM  FGA   FG%  3P Made  3PA   3P%  ...  FTA  \\\n0     10556  80  24.3   7.8  3.0  6.4  45.7      0.1  0.3  22.6  ...  2.9   \n1      5342  75  21.8  10.5  4.2  7.9  55.1     -0.3 -1.0  34.9  ...  3.6   \n2      5716  85  19.1   4.5  1.9  4.5  42.8      0.4  1.2  34.3  ...  0.6   \n3     13790  63  19.1   8.2  3.5  6.7  52.5      0.3  0.8  23.7  ...  1.5   \n4      5470  63  17.8   3.7  1.7  3.4  50.8      0.5  1.4  13.7  ...  0.5   \n...     ...  ..   ...   ...  ...  ...   ...      ...  ...   ...  ...  ...   \n7995   2996  32   9.2   1.8  0.7  1.8  40.3     -0.1 -0.2  23.1  ...  0.6   \n7996  11679  54   6.0   1.8  0.7  1.4  48.7      0.1  0.1   3.1  ...  0.4   \n7997   5537  85  28.2  10.7  4.0  9.0  45.1      0.2  0.6  23.6  ...  3.9   \n7998   1292  39   7.7   2.5  1.0  2.3  40.1     -0.3 -0.5  13.3  ...  0.7   \n7999   2900  49  19.2   4.8  1.7  5.1  32.6      0.7  2.4  41.3  ...  1.3   \n\n       FT%  OREB  DREB  REB  AST  STL  BLK  TOV  TARGET_5Yrs  \n0     72.1   2.2   2.0  3.8  3.2  1.1  0.2  1.6            1  \n1     67.8   3.6   3.7  6.6  0.7  0.5  0.6  1.4            1  \n2     75.7   0.6   1.8  2.4  0.8  0.4  0.2  0.6            1  \n3     66.9   0.8   2.0  3.0  1.8  0.4  0.1  1.9            1  \n4     54.0   2.4   2.7  4.9  0.4  0.4  0.6  0.7            1  \n...    ...   ...   ...  ...  ...  ...  ...  ...          ...  \n7995  65.7   0.3   1.8  1.9  0.5  0.3  0.2  0.4            1  \n7996  70.1   1.0   1.1  2.0  0.1  0.0  0.3  0.3            1  \n7997  69.7   1.0   2.1  3.1  3.4  1.2  0.2  1.8            1  \n7998  74.3   0.4   0.6  0.9  0.2  0.3  0.3  0.5            1  \n7999  70.1   0.1   1.1  1.2  3.5  0.9 -0.3  1.4            1  \n\n[8000 rows x 21 columns]",
      "text/html": "<div>\n<style scoped>\n    .dataframe tbody tr th:only-of-type {\n        vertical-align: middle;\n    }\n\n    .dataframe tbody tr th {\n        vertical-align: top;\n    }\n\n    .dataframe thead th {\n        text-align: right;\n    }\n</style>\n<table border=\"1\" class=\"dataframe\">\n  <thead>\n    <tr style=\"text-align: right;\">\n      <th></th>\n      <th>Id</th>\n      <th>GP</th>\n      <th>MIN</th>\n      <th>PTS</th>\n      <th>FGM</th>\n      <th>FGA</th>\n      <th>FG%</th>\n      <th>3P Made</th>\n      <th>3PA</th>\n      <th>3P%</th>\n      <th>...</th>\n      <th>FTA</th>\n      <th>FT%</th>\n      <th>OREB</th>\n      <th>DREB</th>\n      <th>REB</th>\n      <th>AST</th>\n      <th>STL</th>\n      <th>BLK</th>\n      <th>TOV</th>\n      <th>TARGET_5Yrs</th>\n    </tr>\n  </thead>\n  <tbody>\n    <tr>\n      <th>0</th>\n      <td>10556</td>\n      <td>80</td>\n      <td>24.3</td>\n      <td>7.8</td>\n      <td>3.0</td>\n      <td>6.4</td>\n      <td>45.7</td>\n      <td>0.1</td>\n      <td>0.3</td>\n      <td>22.6</td>\n      <td>...</td>\n      <td>2.9</td>\n      <td>72.1</td>\n      <td>2.2</td>\n      <td>2.0</td>\n      <td>3.8</td>\n      <td>3.2</td>\n      <td>1.1</td>\n      <td>0.2</td>\n      <td>1.6</td>\n      <td>1</td>\n    </tr>\n    <tr>\n      <th>1</th>\n      <td>5342</td>\n      <td>75</td>\n      <td>21.8</td>\n      <td>10.5</td>\n      <td>4.2</td>\n      <td>7.9</td>\n      <td>55.1</td>\n      <td>-0.3</td>\n      <td>-1.0</td>\n      <td>34.9</td>\n      <td>...</td>\n      <td>3.6</td>\n      <td>67.8</td>\n      <td>3.6</td>\n      <td>3.7</td>\n      <td>6.6</td>\n      <td>0.7</td>\n      <td>0.5</td>\n      <td>0.6</td>\n      <td>1.4</td>\n      <td>1</td>\n    </tr>\n    <tr>\n      <th>2</th>\n      <td>5716</td>\n      <td>85</td>\n      <td>19.1</td>\n      <td>4.5</td>\n      <td>1.9</td>\n      <td>4.5</td>\n      <td>42.8</td>\n      <td>0.4</td>\n      <td>1.2</td>\n      <td>34.3</td>\n      <td>...</td>\n      <td>0.6</td>\n      <td>75.7</td>\n      <td>0.6</td>\n      <td>1.8</td>\n      <td>2.4</td>\n      <td>0.8</td>\n      <td>0.4</td>\n      <td>0.2</td>\n      <td>0.6</td>\n      <td>1</td>\n    </tr>\n    <tr>\n      <th>3</th>\n      <td>13790</td>\n      <td>63</td>\n      <td>19.1</td>\n      <td>8.2</td>\n      <td>3.5</td>\n      <td>6.7</td>\n      <td>52.5</td>\n      <td>0.3</td>\n      <td>0.8</td>\n      <td>23.7</td>\n      <td>...</td>\n      <td>1.5</td>\n      <td>66.9</td>\n      <td>0.8</td>\n      <td>2.0</td>\n      <td>3.0</td>\n      <td>1.8</td>\n      <td>0.4</td>\n      <td>0.1</td>\n      <td>1.9</td>\n      <td>1</td>\n    </tr>\n    <tr>\n      <th>4</th>\n      <td>5470</td>\n      <td>63</td>\n      <td>17.8</td>\n      <td>3.7</td>\n      <td>1.7</td>\n      <td>3.4</td>\n      <td>50.8</td>\n      <td>0.5</td>\n      <td>1.4</td>\n      <td>13.7</td>\n      <td>...</td>\n      <td>0.5</td>\n      <td>54.0</td>\n      <td>2.4</td>\n      <td>2.7</td>\n      <td>4.9</td>\n      <td>0.4</td>\n      <td>0.4</td>\n      <td>0.6</td>\n      <td>0.7</td>\n      <td>1</td>\n    </tr>\n    <tr>\n      <th>...</th>\n      <td>...</td>\n      <td>...</td>\n      <td>...</td>\n      <td>...</td>\n      <td>...</td>\n      <td>...</td>\n      <td>...</td>\n      <td>...</td>\n      <td>...</td>\n      <td>...</td>\n      <td>...</td>\n      <td>...</td>\n      <td>...</td>\n      <td>...</td>\n      <td>...</td>\n      <td>...</td>\n      <td>...</td>\n      <td>...</td>\n      <td>...</td>\n      <td>...</td>\n      <td>...</td>\n    </tr>\n    <tr>\n      <th>7995</th>\n      <td>2996</td>\n      <td>32</td>\n      <td>9.2</td>\n      <td>1.8</td>\n      <td>0.7</td>\n      <td>1.8</td>\n      <td>40.3</td>\n      <td>-0.1</td>\n      <td>-0.2</td>\n      <td>23.1</td>\n      <td>...</td>\n      <td>0.6</td>\n      <td>65.7</td>\n      <td>0.3</td>\n      <td>1.8</td>\n      <td>1.9</td>\n      <td>0.5</td>\n      <td>0.3</td>\n      <td>0.2</td>\n      <td>0.4</td>\n      <td>1</td>\n    </tr>\n    <tr>\n      <th>7996</th>\n      <td>11679</td>\n      <td>54</td>\n      <td>6.0</td>\n      <td>1.8</td>\n      <td>0.7</td>\n      <td>1.4</td>\n      <td>48.7</td>\n      <td>0.1</td>\n      <td>0.1</td>\n      <td>3.1</td>\n      <td>...</td>\n      <td>0.4</td>\n      <td>70.1</td>\n      <td>1.0</td>\n      <td>1.1</td>\n      <td>2.0</td>\n      <td>0.1</td>\n      <td>0.0</td>\n      <td>0.3</td>\n      <td>0.3</td>\n      <td>1</td>\n    </tr>\n    <tr>\n      <th>7997</th>\n      <td>5537</td>\n      <td>85</td>\n      <td>28.2</td>\n      <td>10.7</td>\n      <td>4.0</td>\n      <td>9.0</td>\n      <td>45.1</td>\n      <td>0.2</td>\n      <td>0.6</td>\n      <td>23.6</td>\n      <td>...</td>\n      <td>3.9</td>\n      <td>69.7</td>\n      <td>1.0</td>\n      <td>2.1</td>\n      <td>3.1</td>\n      <td>3.4</td>\n      <td>1.2</td>\n      <td>0.2</td>\n      <td>1.8</td>\n      <td>1</td>\n    </tr>\n    <tr>\n      <th>7998</th>\n      <td>1292</td>\n      <td>39</td>\n      <td>7.7</td>\n      <td>2.5</td>\n      <td>1.0</td>\n      <td>2.3</td>\n      <td>40.1</td>\n      <td>-0.3</td>\n      <td>-0.5</td>\n      <td>13.3</td>\n      <td>...</td>\n      <td>0.7</td>\n      <td>74.3</td>\n      <td>0.4</td>\n      <td>0.6</td>\n      <td>0.9</td>\n      <td>0.2</td>\n      <td>0.3</td>\n      <td>0.3</td>\n      <td>0.5</td>\n      <td>1</td>\n    </tr>\n    <tr>\n      <th>7999</th>\n      <td>2900</td>\n      <td>49</td>\n      <td>19.2</td>\n      <td>4.8</td>\n      <td>1.7</td>\n      <td>5.1</td>\n      <td>32.6</td>\n      <td>0.7</td>\n      <td>2.4</td>\n      <td>41.3</td>\n      <td>...</td>\n      <td>1.3</td>\n      <td>70.1</td>\n      <td>0.1</td>\n      <td>1.1</td>\n      <td>1.2</td>\n      <td>3.5</td>\n      <td>0.9</td>\n      <td>-0.3</td>\n      <td>1.4</td>\n      <td>1</td>\n    </tr>\n  </tbody>\n</table>\n<p>8000 rows × 21 columns</p>\n</div>"
     },
     "execution_count": 10,
     "metadata": {},
     "output_type": "execute_result"
    }
   ],
   "source": [
    "df_data = pd.read_csv(raw_data_dir / 'train.csv')\n",
    "df_data"
   ],
   "metadata": {
    "collapsed": false,
    "pycharm": {
     "name": "#%%\n"
    }
   }
  },
  {
   "cell_type": "code",
   "execution_count": 11,
   "outputs": [
    {
     "data": {
      "text/plain": "                 Id           GP          MIN          PTS          FGM  \\\ncount   8000.000000  8000.000000  8000.000000  8000.000000  8000.000000   \nmean    6856.971000    62.777875    18.576662     7.267088     2.807037   \nstd     3977.447579    17.118774     8.935263     4.318732     1.693373   \nmin        4.000000    -8.000000     2.900000     0.800000     0.300000   \n25%     3413.750000    51.000000    12.000000     4.100000     1.600000   \n50%     6787.500000    63.000000    16.800000     6.300000     2.400000   \n75%    10299.250000    74.000000    23.500000     9.500000     3.700000   \nmax    13798.000000   123.000000    73.800000    34.200000    13.100000   \n\n               FGA          FG%      3P Made          3PA          3P%  ...  \\\ncount  8000.000000  8000.000000  8000.000000  8000.000000  8000.000000  ...   \nmean      6.231212    44.608900     0.264525     0.816562    19.583700  ...   \nstd       3.584559     6.155453     0.384093     1.060964    16.003155  ...   \nmin       0.800000    21.300000    -1.100000    -3.100000   -38.500000  ...   \n25%       3.600000    40.400000     0.000000     0.100000     8.400000  ...   \n50%       5.400000    44.400000     0.300000     0.800000    19.500000  ...   \n75%       8.100000    48.700000     0.500000     1.500000    30.600000  ...   \nmax      28.900000    67.200000     1.700000     4.700000    82.100000  ...   \n\n               FTA          FT%         OREB         DREB          REB  \\\ncount  8000.000000  8000.000000  8000.000000  8000.000000  8000.000000   \nmean      1.947788    71.365825     1.077838     2.168500     3.245300   \nstd       1.252352    10.430447     0.785670     1.392224     2.085154   \nmin       0.000000   -13.300000     0.000000     0.200000     0.300000   \n25%       1.000000    65.000000     0.500000     1.100000     1.700000   \n50%       1.700000    71.400000     0.900000     1.900000     2.800000   \n75%       2.600000    77.500000     1.500000     2.900000     4.300000   \nmax      11.100000   168.900000     5.500000    11.000000    15.900000   \n\n               AST          STL          BLK          TOV  TARGET_5Yrs  \ncount  8000.000000  8000.000000  8000.000000  8000.000000  8000.000000  \nmean      1.624513     0.648687     0.245212     1.257763     0.833625  \nstd       1.355986     0.407626     0.821037     0.723270     0.372440  \nmin       0.000000     0.000000   -17.900000     0.100000     0.000000  \n25%       0.700000     0.300000     0.100000     0.700000     1.000000  \n50%       1.300000     0.600000     0.200000     1.100000     1.000000  \n75%       2.200000     0.900000     0.400000     1.600000     1.000000  \nmax      12.800000     3.600000    18.900000     5.300000     1.000000  \n\n[8 rows x 21 columns]",
      "text/html": "<div>\n<style scoped>\n    .dataframe tbody tr th:only-of-type {\n        vertical-align: middle;\n    }\n\n    .dataframe tbody tr th {\n        vertical-align: top;\n    }\n\n    .dataframe thead th {\n        text-align: right;\n    }\n</style>\n<table border=\"1\" class=\"dataframe\">\n  <thead>\n    <tr style=\"text-align: right;\">\n      <th></th>\n      <th>Id</th>\n      <th>GP</th>\n      <th>MIN</th>\n      <th>PTS</th>\n      <th>FGM</th>\n      <th>FGA</th>\n      <th>FG%</th>\n      <th>3P Made</th>\n      <th>3PA</th>\n      <th>3P%</th>\n      <th>...</th>\n      <th>FTA</th>\n      <th>FT%</th>\n      <th>OREB</th>\n      <th>DREB</th>\n      <th>REB</th>\n      <th>AST</th>\n      <th>STL</th>\n      <th>BLK</th>\n      <th>TOV</th>\n      <th>TARGET_5Yrs</th>\n    </tr>\n  </thead>\n  <tbody>\n    <tr>\n      <th>count</th>\n      <td>8000.000000</td>\n      <td>8000.000000</td>\n      <td>8000.000000</td>\n      <td>8000.000000</td>\n      <td>8000.000000</td>\n      <td>8000.000000</td>\n      <td>8000.000000</td>\n      <td>8000.000000</td>\n      <td>8000.000000</td>\n      <td>8000.000000</td>\n      <td>...</td>\n      <td>8000.000000</td>\n      <td>8000.000000</td>\n      <td>8000.000000</td>\n      <td>8000.000000</td>\n      <td>8000.000000</td>\n      <td>8000.000000</td>\n      <td>8000.000000</td>\n      <td>8000.000000</td>\n      <td>8000.000000</td>\n      <td>8000.000000</td>\n    </tr>\n    <tr>\n      <th>mean</th>\n      <td>6856.971000</td>\n      <td>62.777875</td>\n      <td>18.576662</td>\n      <td>7.267088</td>\n      <td>2.807037</td>\n      <td>6.231212</td>\n      <td>44.608900</td>\n      <td>0.264525</td>\n      <td>0.816562</td>\n      <td>19.583700</td>\n      <td>...</td>\n      <td>1.947788</td>\n      <td>71.365825</td>\n      <td>1.077838</td>\n      <td>2.168500</td>\n      <td>3.245300</td>\n      <td>1.624513</td>\n      <td>0.648687</td>\n      <td>0.245212</td>\n      <td>1.257763</td>\n      <td>0.833625</td>\n    </tr>\n    <tr>\n      <th>std</th>\n      <td>3977.447579</td>\n      <td>17.118774</td>\n      <td>8.935263</td>\n      <td>4.318732</td>\n      <td>1.693373</td>\n      <td>3.584559</td>\n      <td>6.155453</td>\n      <td>0.384093</td>\n      <td>1.060964</td>\n      <td>16.003155</td>\n      <td>...</td>\n      <td>1.252352</td>\n      <td>10.430447</td>\n      <td>0.785670</td>\n      <td>1.392224</td>\n      <td>2.085154</td>\n      <td>1.355986</td>\n      <td>0.407626</td>\n      <td>0.821037</td>\n      <td>0.723270</td>\n      <td>0.372440</td>\n    </tr>\n    <tr>\n      <th>min</th>\n      <td>4.000000</td>\n      <td>-8.000000</td>\n      <td>2.900000</td>\n      <td>0.800000</td>\n      <td>0.300000</td>\n      <td>0.800000</td>\n      <td>21.300000</td>\n      <td>-1.100000</td>\n      <td>-3.100000</td>\n      <td>-38.500000</td>\n      <td>...</td>\n      <td>0.000000</td>\n      <td>-13.300000</td>\n      <td>0.000000</td>\n      <td>0.200000</td>\n      <td>0.300000</td>\n      <td>0.000000</td>\n      <td>0.000000</td>\n      <td>-17.900000</td>\n      <td>0.100000</td>\n      <td>0.000000</td>\n    </tr>\n    <tr>\n      <th>25%</th>\n      <td>3413.750000</td>\n      <td>51.000000</td>\n      <td>12.000000</td>\n      <td>4.100000</td>\n      <td>1.600000</td>\n      <td>3.600000</td>\n      <td>40.400000</td>\n      <td>0.000000</td>\n      <td>0.100000</td>\n      <td>8.400000</td>\n      <td>...</td>\n      <td>1.000000</td>\n      <td>65.000000</td>\n      <td>0.500000</td>\n      <td>1.100000</td>\n      <td>1.700000</td>\n      <td>0.700000</td>\n      <td>0.300000</td>\n      <td>0.100000</td>\n      <td>0.700000</td>\n      <td>1.000000</td>\n    </tr>\n    <tr>\n      <th>50%</th>\n      <td>6787.500000</td>\n      <td>63.000000</td>\n      <td>16.800000</td>\n      <td>6.300000</td>\n      <td>2.400000</td>\n      <td>5.400000</td>\n      <td>44.400000</td>\n      <td>0.300000</td>\n      <td>0.800000</td>\n      <td>19.500000</td>\n      <td>...</td>\n      <td>1.700000</td>\n      <td>71.400000</td>\n      <td>0.900000</td>\n      <td>1.900000</td>\n      <td>2.800000</td>\n      <td>1.300000</td>\n      <td>0.600000</td>\n      <td>0.200000</td>\n      <td>1.100000</td>\n      <td>1.000000</td>\n    </tr>\n    <tr>\n      <th>75%</th>\n      <td>10299.250000</td>\n      <td>74.000000</td>\n      <td>23.500000</td>\n      <td>9.500000</td>\n      <td>3.700000</td>\n      <td>8.100000</td>\n      <td>48.700000</td>\n      <td>0.500000</td>\n      <td>1.500000</td>\n      <td>30.600000</td>\n      <td>...</td>\n      <td>2.600000</td>\n      <td>77.500000</td>\n      <td>1.500000</td>\n      <td>2.900000</td>\n      <td>4.300000</td>\n      <td>2.200000</td>\n      <td>0.900000</td>\n      <td>0.400000</td>\n      <td>1.600000</td>\n      <td>1.000000</td>\n    </tr>\n    <tr>\n      <th>max</th>\n      <td>13798.000000</td>\n      <td>123.000000</td>\n      <td>73.800000</td>\n      <td>34.200000</td>\n      <td>13.100000</td>\n      <td>28.900000</td>\n      <td>67.200000</td>\n      <td>1.700000</td>\n      <td>4.700000</td>\n      <td>82.100000</td>\n      <td>...</td>\n      <td>11.100000</td>\n      <td>168.900000</td>\n      <td>5.500000</td>\n      <td>11.000000</td>\n      <td>15.900000</td>\n      <td>12.800000</td>\n      <td>3.600000</td>\n      <td>18.900000</td>\n      <td>5.300000</td>\n      <td>1.000000</td>\n    </tr>\n  </tbody>\n</table>\n<p>8 rows × 21 columns</p>\n</div>"
     },
     "execution_count": 11,
     "metadata": {},
     "output_type": "execute_result"
    }
   ],
   "source": [
    "df_data.describe()"
   ],
   "metadata": {
    "collapsed": false,
    "pycharm": {
     "name": "#%%\n"
    }
   }
  },
  {
   "cell_type": "code",
   "execution_count": 15,
   "outputs": [],
   "source": [
    "target = 'TARGET_5Yrs'\n",
    "X, y = separate_target(df_data, target=target)"
   ],
   "metadata": {
    "collapsed": false,
    "pycharm": {
     "name": "#%%\n"
    }
   }
  },
  {
   "cell_type": "code",
   "execution_count": 13,
   "outputs": [
    {
     "ename": "NameError",
     "evalue": "name 'X' is not defined",
     "output_type": "error",
     "traceback": [
      "\u001B[1;31m---------------------------------------------------------------------------\u001B[0m",
      "\u001B[1;31mNameError\u001B[0m                                 Traceback (most recent call last)",
      "\u001B[1;32m<ipython-input-13-9545f5b82155>\u001B[0m in \u001B[0;36m<module>\u001B[1;34m\u001B[0m\n\u001B[1;32m----> 1\u001B[1;33m \u001B[0mX\u001B[0m\u001B[1;33m.\u001B[0m\u001B[0minfo\u001B[0m\u001B[1;33m(\u001B[0m\u001B[1;33m)\u001B[0m\u001B[1;33m\u001B[0m\u001B[1;33m\u001B[0m\u001B[0m\n\u001B[0m",
      "\u001B[1;31mNameError\u001B[0m: name 'X' is not defined"
     ]
    }
   ],
   "source": [
    "X.info()"
   ],
   "metadata": {
    "collapsed": false,
    "pycharm": {
     "name": "#%%\n"
    }
   }
  }
 ],
 "metadata": {
  "kernelspec": {
   "display_name": "Python 3",
   "language": "python",
   "name": "python3"
  },
  "language_info": {
   "codemirror_mode": {
    "name": "ipython",
    "version": 2
   },
   "file_extension": ".py",
   "mimetype": "text/x-python",
   "name": "python",
   "nbconvert_exporter": "python",
   "pygments_lexer": "ipython2",
   "version": "2.7.6"
  }
 },
 "nbformat": 4,
 "nbformat_minor": 0
}