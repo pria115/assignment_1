{
 "cells": [
  {
   "cell_type": "code",
   "execution_count": 28,
   "metadata": {},
   "outputs": [],
   "source": [
    "import pandas as pd\n",
    "import numpy as np\n",
    "from pathlib import Path\n",
    "from sklearn.preprocessing import StandardScaler\n",
    "from sklearn.model_selection import train_test_split\n",
    "from sklearn.model_selection import RandomizedSearchCV\n",
    "from sklearn.decomposition import PCA\n",
    "from sklearn.metrics import roc_auc_score\n",
    "from sklearn.metrics import roc_curve\n",
    "from sklearn.metrics import precision_recall_curve\n",
    "from sklearn.pipeline import Pipeline\n",
    "from scipy import stats\n",
    "from joblib import dump\n",
    "from joblib import load\n",
    "import xgboost as xgb\n",
    "import matplotlib.pyplot as plt"
   ]
  },
  {
   "cell_type": "code",
   "execution_count": 3,
   "metadata": {
    "collapsed": false,
    "jupyter": {
     "outputs_hidden": false
    },
    "pycharm": {
     "name": "#%%\n"
    }
   },
   "outputs": [],
   "source": [
    "project_dir = Path.cwd().parent\n",
    "data_dir = project_dir / 'data'\n",
    "raw_data_dir = data_dir / 'raw'\n",
    "interim_data_dir = data_dir / 'interim'"
   ]
  },
  {
   "cell_type": "markdown",
   "metadata": {},
   "source": [
    "# Load data"
   ]
  },
  {
   "cell_type": "code",
   "execution_count": 34,
   "metadata": {},
   "outputs": [],
   "source": [
    "df_train = pd.read_csv(raw_data_dir / 'train.csv')\n",
    "df_test = pd.read_csv(raw_data_dir / 'test.csv')\n",
    "X_train = np.load(interim_data_dir / 'X_train.npy')\n",
    "X_val = np.load(interim_data_dir / 'X_val.npy')\n",
    "y_train = np.load(interim_data_dir / 'y_train.npy')\n",
    "y_val = np.load(interim_data_dir / 'y_val.npy')\n",
    "X_test = np.load(interim_data_dir / 'X_test.npy')"
   ]
  },
  {
   "cell_type": "markdown",
   "metadata": {},
   "source": [
    "# Baseline\n",
    "\n",
    "The base line prediction is simply to make them all negative."
   ]
  },
  {
   "cell_type": "code",
   "execution_count": 19,
   "metadata": {},
   "outputs": [
    {
     "data": {
      "image/png": "[encoded data removed]",
      "text/plain": [
       "<Figure size 432x288 with 1 Axes>"
      ]
     },
     "metadata": {},
     "output_type": "display_data"
    }
   ],
   "source": [
    "labels = 'Positive', 'Negative'\n",
    "pos_count = (y_train == 1).sum()\n",
    "neg_count = (y_train == 0).sum()\n",
    "sizes = [pos_count, neg_count]\n",
    "explode = (0, 0.1)  # only \"explode\" the 2nd slice (i.e. 'Hogs')\n",
    "\n",
    "fig1, ax1 = plt.subplots()\n",
    "ax1.pie(sizes, explode=explode, labels=labels, autopct='%1.1f%%',\n",
    "        shadow=True, startangle=90)\n",
    "ax1.axis('equal')  # Equal aspect ratio ensures that pie is drawn as a circle.\n",
    "\n",
    "plt.show()"
   ]
  },
  {
   "cell_type": "code",
   "execution_count": 22,
   "metadata": {},
   "outputs": [
    {
     "data": {
      "image/png": "[encoded data removed]",
      "text/plain": [
       "<Figure size 432x288 with 1 Axes>"
      ]
     },
     "metadata": {},
     "output_type": "display_data"
    }
   ],
   "source": [
    "labels = 'Positive', 'Negative'\n",
    "pos_count = (y_val == 1).sum()\n",
    "neg_count = (y_val == 0).sum()\n",
    "sizes = [pos_count, neg_count]\n",
    "explode = (0, 0.1)  # only \"explode\" the 2nd slice (i.e. 'Hogs')\n",
    "\n",
    "fig1, ax1 = plt.subplots()\n",
    "ax1.pie(sizes, explode=explode, labels=labels, autopct='%1.1f%%',\n",
    "        shadow=True, startangle=90)\n",
    "ax1.axis('equal')  # Equal aspect ratio ensures that pie is drawn as a circle.\n",
    "\n",
    "plt.show()"
   ]
  },
  {
   "cell_type": "code",
   "execution_count": 21,
   "metadata": {},
   "outputs": [
    {
     "data": {
      "text/plain": [
       "0.5"
      ]
     },
     "execution_count": 21,
     "metadata": {},
     "output_type": "execute_result"
    }
   ],
   "source": [
    "preds = [1] * len(y_val)\n",
    "roc_auc_score(y_val, preds)"
   ]
  },
  {
   "cell_type": "markdown",
   "metadata": {},
   "source": [
    "# XGB"
   ]
  },
  {
   "cell_type": "code",
   "execution_count": 23,
   "metadata": {},
   "outputs": [],
   "source": [
    "clf_xgb = xgb.XGBClassifier()"
   ]
  },
  {
   "cell_type": "code",
   "execution_count": 24,
   "metadata": {},
   "outputs": [
    {
     "data": {
      "text/plain": [
       "XGBClassifier(base_score=0.5, booster='gbtree', colsample_bylevel=1,\n",
       "              colsample_bynode=1, colsample_bytree=1, gamma=0,\n",
       "              learning_rate=0.1, max_delta_step=0, max_depth=3,\n",
       "              min_child_weight=1, missing=None, n_estimators=100, n_jobs=1,\n",
       "              nthread=None, objective='binary:logistic', random_state=0,\n",
       "              reg_alpha=0, reg_lambda=1, scale_pos_weight=1, seed=None,\n",
       "              silent=None, subsample=1, verbosity=1)"
      ]
     },
     "execution_count": 24,
     "metadata": {},
     "output_type": "execute_result"
    }
   ],
   "source": [
    "clf_xgb.fit(X_train, y_train)"
   ]
  },
  {
   "cell_type": "code",
   "execution_count": 26,
   "metadata": {},
   "outputs": [],
   "source": [
    "preds = clf_xgb.predict(X_val)\n",
    "probs = clf_xgb.predict_proba(X_val)"
   ]
  },
  {
   "cell_type": "code",
   "execution_count": 32,
   "metadata": {},
   "outputs": [
    {
     "data": {
      "text/plain": [
       "(1600, 20)"
      ]
     },
     "execution_count": 32,
     "metadata": {},
     "output_type": "execute_result"
    }
   ],
   "source": [
    "X_val.shape"
   ]
  },
  {
   "cell_type": "code",
   "execution_count": 35,
   "metadata": {},
   "outputs": [
    {
     "data": {
      "text/plain": [
       "1600"
      ]
     },
     "execution_count": 35,
     "metadata": {},
     "output_type": "execute_result"
    }
   ],
   "source": [
    "len(y_val)"
   ]
  },
  {
   "cell_type": "code",
   "execution_count": 39,
   "metadata": {},
   "outputs": [
    {
     "data": {
      "text/plain": [
       "0.7032770148252003"
      ]
     },
     "execution_count": 39,
     "metadata": {},
     "output_type": "execute_result"
    }
   ],
   "source": [
    "auc = roc_auc_score(y_val, probs[:, 1])\n",
    "tpr, fpr, threshold = roc_curve(y_val, probs[:, 1])\n",
    "auc"
   ]
  },
  {
   "cell_type": "code",
   "execution_count": null,
   "metadata": {},
   "outputs": [],
   "source": []
  },
  {
   "cell_type": "markdown",
   "metadata": {},
   "source": [
    "# RandomizedSearchCV"
   ]
  },
  {
   "cell_type": "code",
   "execution_count": 35,
   "metadata": {},
   "outputs": [
    {
     "name": "stdout",
     "output_type": "stream",
     "text": [
      "<class 'pandas.core.frame.DataFrame'>\n",
      "RangeIndex: 8000 entries, 0 to 7999\n",
      "Data columns (total 21 columns):\n",
      " #   Column       Non-Null Count  Dtype  \n",
      "---  ------       --------------  -----  \n",
      " 0   Id           8000 non-null   int64  \n",
      " 1   GP           8000 non-null   int64  \n",
      " 2   MIN          8000 non-null   float64\n",
      " 3   PTS          8000 non-null   float64\n",
      " 4   FGM          8000 non-null   float64\n",
      " 5   FGA          8000 non-null   float64\n",
      " 6   FG%          8000 non-null   float64\n",
      " 7   3P Made      8000 non-null   float64\n",
      " 8   3PA          8000 non-null   float64\n",
      " 9   3P%          8000 non-null   float64\n",
      " 10  FTM          8000 non-null   float64\n",
      " 11  FTA          8000 non-null   float64\n",
      " 12  FT%          8000 non-null   float64\n",
      " 13  OREB         8000 non-null   float64\n",
      " 14  DREB         8000 non-null   float64\n",
      " 15  REB          8000 non-null   float64\n",
      " 16  AST          8000 non-null   float64\n",
      " 17  STL          8000 non-null   float64\n",
      " 18  BLK          8000 non-null   float64\n",
      " 19  TOV          8000 non-null   float64\n",
      " 20  TARGET_5Yrs  8000 non-null   int64  \n",
      "dtypes: float64(18), int64(3)\n",
      "memory usage: 1.3 MB\n"
     ]
    }
   ],
   "source": [
    "# test\n",
    "df_train.info()"
   ]
  },
  {
   "cell_type": "code",
   "execution_count": 38,
   "metadata": {},
   "outputs": [
    {
     "name": "stderr",
     "output_type": "stream",
     "text": [
      "c:\\users\\mactuary\\.virtualenvs\\assignment_1-9rwzg4k3\\lib\\site-packages\\sklearn\\model_selection\\_search.py:918: UserWarning: One or more of the test scores are non-finite: [0.79828125 0.7871875         nan        nan        nan]\n",
      "  warnings.warn(\n"
     ]
    },
    {
     "data": {
      "text/plain": [
       "RandomizedSearchCV(cv=5,\n",
       "                   estimator=Pipeline(steps=[('scaler', StandardScaler()),\n",
       "                                             ('pca', PCA()),\n",
       "                                             ('classifier',\n",
       "                                              XGBClassifier(base_score=None,\n",
       "                                                            booster=None,\n",
       "                                                            colsample_bylevel=None,\n",
       "                                                            colsample_bynode=None,\n",
       "                                                            colsample_bytree=None,\n",
       "                                                            eval_metric='logloss',\n",
       "                                                            gamma=None,\n",
       "                                                            gpu_id=None,\n",
       "                                                            importance_type='gain',\n",
       "                                                            interaction_constraints=None,\n",
       "                                                            learning_rate=None,\n",
       "                                                            max_delta_step=Non...\n",
       "                                                                  8, 9],\n",
       "                                        'classifier__min_child_weight': [1, 2,\n",
       "                                                                         3, 4],\n",
       "                                        'classifier__n_estimators': <scipy.stats._distn_infrastructure.rv_frozen object at 0x000002515FA77730>,\n",
       "                                        'classifier__subsample': <scipy.stats._distn_infrastructure.rv_frozen object at 0x000002515FB80700>,\n",
       "                                        'pca__n_components': <scipy.stats._distn_infrastructure.rv_frozen object at 0x000002515FAB6D00>},\n",
       "                   random_state=42)"
      ]
     },
     "execution_count": 38,
     "metadata": {},
     "output_type": "execute_result"
    }
   ],
   "source": [
    "pipe = Pipeline([\n",
    "        ('scaler', StandardScaler()),\n",
    "        ('pca', PCA()),\n",
    "        ('classifier', xgb.XGBClassifier(\n",
    "            objective='binary:logistic',\n",
    "            use_label_encoder=False,\n",
    "            eval_metric='logloss'\n",
    "        ))\n",
    "])\n",
    "\n",
    "param_dist = {\n",
    "    'pca__n_components': stats.randint(1, X_train.shape[1]),\n",
    "    'classifier__n_estimators': stats.randint(150, 1000),\n",
    "    'classifier__learning_rate': stats.uniform(0.01, 0.6),\n",
    "    'classifier__subsample': stats.uniform(0.3, 0.9),\n",
    "    'classifier__max_depth': [3, 4, 5, 6, 7, 8, 9],\n",
    "    'classifier__colsample_bytree': stats.uniform(0.5, 0.9),\n",
    "    'classifier__min_child_weight': [1, 2, 3, 4]\n",
    "}\n",
    "\n",
    "cv = RandomizedSearchCV(\n",
    "    estimator=pipe,\n",
    "    param_distributions=param_dist,\n",
    "    random_state=42,\n",
    "    n_iter=5,\n",
    "    cv=5,\n",
    "    n_jobs=-1\n",
    ")\n",
    "\n",
    "cv.fit(X_train, y_train)"
   ]
  },
  {
   "cell_type": "code",
   "execution_count": 41,
   "metadata": {},
   "outputs": [
    {
     "data": {
      "text/html": [
       "<div>\n",
       "<style scoped>\n",
       "    .dataframe tbody tr th:only-of-type {\n",
       "        vertical-align: middle;\n",
       "    }\n",
       "\n",
       "    .dataframe tbody tr th {\n",
       "        vertical-align: top;\n",
       "    }\n",
       "\n",
       "    .dataframe thead th {\n",
       "        text-align: right;\n",
       "    }\n",
       "</style>\n",
       "<table border=\"1\" class=\"dataframe\">\n",
       "  <thead>\n",
       "    <tr style=\"text-align: right;\">\n",
       "      <th></th>\n",
       "      <th>mean_fit_time</th>\n",
       "      <th>std_fit_time</th>\n",
       "      <th>mean_score_time</th>\n",
       "      <th>std_score_time</th>\n",
       "      <th>param_classifier__colsample_bytree</th>\n",
       "      <th>param_classifier__learning_rate</th>\n",
       "      <th>param_classifier__max_depth</th>\n",
       "      <th>param_classifier__min_child_weight</th>\n",
       "      <th>param_classifier__n_estimators</th>\n",
       "      <th>param_classifier__subsample</th>\n",
       "      <th>param_pca__n_components</th>\n",
       "      <th>params</th>\n",
       "      <th>split0_test_score</th>\n",
       "      <th>split1_test_score</th>\n",
       "      <th>split2_test_score</th>\n",
       "      <th>split3_test_score</th>\n",
       "      <th>split4_test_score</th>\n",
       "      <th>mean_test_score</th>\n",
       "      <th>std_test_score</th>\n",
       "      <th>rank_test_score</th>\n",
       "    </tr>\n",
       "  </thead>\n",
       "  <tbody>\n",
       "    <tr>\n",
       "      <th>0</th>\n",
       "      <td>12.346427</td>\n",
       "      <td>0.125135</td>\n",
       "      <td>0.014600</td>\n",
       "      <td>0.003666</td>\n",
       "      <td>0.837086</td>\n",
       "      <td>0.580429</td>\n",
       "      <td>5</td>\n",
       "      <td>4</td>\n",
       "      <td>850</td>\n",
       "      <td>0.837165</td>\n",
       "      <td>19</td>\n",
       "      <td>{'classifier__colsample_bytree': 0.83708610696...</td>\n",
       "      <td>0.790625</td>\n",
       "      <td>0.800000</td>\n",
       "      <td>0.796875</td>\n",
       "      <td>0.796875</td>\n",
       "      <td>0.807031</td>\n",
       "      <td>0.798281</td>\n",
       "      <td>0.005331</td>\n",
       "      <td>1</td>\n",
       "    </tr>\n",
       "    <tr>\n",
       "      <th>1</th>\n",
       "      <td>9.774795</td>\n",
       "      <td>4.753663</td>\n",
       "      <td>0.013601</td>\n",
       "      <td>0.003878</td>\n",
       "      <td>0.589977</td>\n",
       "      <td>0.285549</td>\n",
       "      <td>7</td>\n",
       "      <td>4</td>\n",
       "      <td>813</td>\n",
       "      <td>0.8858</td>\n",
       "      <td>2</td>\n",
       "      <td>{'classifier__colsample_bytree': 0.58997742423...</td>\n",
       "      <td>0.800000</td>\n",
       "      <td>0.775781</td>\n",
       "      <td>0.788281</td>\n",
       "      <td>0.785937</td>\n",
       "      <td>0.785937</td>\n",
       "      <td>0.787188</td>\n",
       "      <td>0.007728</td>\n",
       "      <td>2</td>\n",
       "    </tr>\n",
       "    <tr>\n",
       "      <th>2</th>\n",
       "      <td>0.044402</td>\n",
       "      <td>0.002058</td>\n",
       "      <td>0.000000</td>\n",
       "      <td>0.000000</td>\n",
       "      <td>1.149799</td>\n",
       "      <td>0.573132</td>\n",
       "      <td>4</td>\n",
       "      <td>4</td>\n",
       "      <td>426</td>\n",
       "      <td>0.855733</td>\n",
       "      <td>12</td>\n",
       "      <td>{'classifier__colsample_bytree': 1.14979889504...</td>\n",
       "      <td>NaN</td>\n",
       "      <td>NaN</td>\n",
       "      <td>NaN</td>\n",
       "      <td>NaN</td>\n",
       "      <td>NaN</td>\n",
       "      <td>NaN</td>\n",
       "      <td>NaN</td>\n",
       "      <td>3</td>\n",
       "    </tr>\n",
       "    <tr>\n",
       "      <th>3</th>\n",
       "      <td>0.044201</td>\n",
       "      <td>0.001327</td>\n",
       "      <td>0.000000</td>\n",
       "      <td>0.000000</td>\n",
       "      <td>0.520756</td>\n",
       "      <td>0.324865</td>\n",
       "      <td>9</td>\n",
       "      <td>2</td>\n",
       "      <td>625</td>\n",
       "      <td>1.17638</td>\n",
       "      <td>15</td>\n",
       "      <td>{'classifier__colsample_bytree': 0.52075618253...</td>\n",
       "      <td>NaN</td>\n",
       "      <td>NaN</td>\n",
       "      <td>NaN</td>\n",
       "      <td>NaN</td>\n",
       "      <td>NaN</td>\n",
       "      <td>NaN</td>\n",
       "      <td>NaN</td>\n",
       "      <td>4</td>\n",
       "    </tr>\n",
       "    <tr>\n",
       "      <th>4</th>\n",
       "      <td>0.030599</td>\n",
       "      <td>0.002247</td>\n",
       "      <td>0.000000</td>\n",
       "      <td>0.000000</td>\n",
       "      <td>0.910463</td>\n",
       "      <td>0.481106</td>\n",
       "      <td>5</td>\n",
       "      <td>4</td>\n",
       "      <td>716</td>\n",
       "      <td>1.184908</td>\n",
       "      <td>3</td>\n",
       "      <td>{'classifier__colsample_bytree': 0.91046298579...</td>\n",
       "      <td>NaN</td>\n",
       "      <td>NaN</td>\n",
       "      <td>NaN</td>\n",
       "      <td>NaN</td>\n",
       "      <td>NaN</td>\n",
       "      <td>NaN</td>\n",
       "      <td>NaN</td>\n",
       "      <td>5</td>\n",
       "    </tr>\n",
       "  </tbody>\n",
       "</table>\n",
       "</div>"
      ],
      "text/plain": [
       "   mean_fit_time  std_fit_time  mean_score_time  std_score_time  \\\n",
       "0      12.346427      0.125135         0.014600        0.003666   \n",
       "1       9.774795      4.753663         0.013601        0.003878   \n",
       "2       0.044402      0.002058         0.000000        0.000000   \n",
       "3       0.044201      0.001327         0.000000        0.000000   \n",
       "4       0.030599      0.002247         0.000000        0.000000   \n",
       "\n",
       "  param_classifier__colsample_bytree param_classifier__learning_rate  \\\n",
       "0                           0.837086                        0.580429   \n",
       "1                           0.589977                        0.285549   \n",
       "2                           1.149799                        0.573132   \n",
       "3                           0.520756                        0.324865   \n",
       "4                           0.910463                        0.481106   \n",
       "\n",
       "  param_classifier__max_depth param_classifier__min_child_weight  \\\n",
       "0                           5                                  4   \n",
       "1                           7                                  4   \n",
       "2                           4                                  4   \n",
       "3                           9                                  2   \n",
       "4                           5                                  4   \n",
       "\n",
       "  param_classifier__n_estimators param_classifier__subsample  \\\n",
       "0                            850                    0.837165   \n",
       "1                            813                      0.8858   \n",
       "2                            426                    0.855733   \n",
       "3                            625                     1.17638   \n",
       "4                            716                    1.184908   \n",
       "\n",
       "  param_pca__n_components                                             params  \\\n",
       "0                      19  {'classifier__colsample_bytree': 0.83708610696...   \n",
       "1                       2  {'classifier__colsample_bytree': 0.58997742423...   \n",
       "2                      12  {'classifier__colsample_bytree': 1.14979889504...   \n",
       "3                      15  {'classifier__colsample_bytree': 0.52075618253...   \n",
       "4                       3  {'classifier__colsample_bytree': 0.91046298579...   \n",
       "\n",
       "   split0_test_score  split1_test_score  split2_test_score  split3_test_score  \\\n",
       "0           0.790625           0.800000           0.796875           0.796875   \n",
       "1           0.800000           0.775781           0.788281           0.785937   \n",
       "2                NaN                NaN                NaN                NaN   \n",
       "3                NaN                NaN                NaN                NaN   \n",
       "4                NaN                NaN                NaN                NaN   \n",
       "\n",
       "   split4_test_score  mean_test_score  std_test_score  rank_test_score  \n",
       "0           0.807031         0.798281        0.005331                1  \n",
       "1           0.785937         0.787188        0.007728                2  \n",
       "2                NaN              NaN             NaN                3  \n",
       "3                NaN              NaN             NaN                4  \n",
       "4                NaN              NaN             NaN                5  "
      ]
     },
     "execution_count": 41,
     "metadata": {},
     "output_type": "execute_result"
    }
   ],
   "source": [
    "pd.DataFrame(cv.cv_results_)"
   ]
  },
  {
   "cell_type": "markdown",
   "metadata": {},
   "source": [
    "## Predictions"
   ]
  },
  {
   "cell_type": "code",
   "execution_count": 48,
   "metadata": {},
   "outputs": [],
   "source": [
    "preds = cv.predict(X_val)\n",
    "probs = cv.predict_proba(X_val)"
   ]
  },
  {
   "cell_type": "code",
   "execution_count": 47,
   "metadata": {},
   "outputs": [
    {
     "data": {
      "text/plain": [
       "3799"
      ]
     },
     "execution_count": 47,
     "metadata": {},
     "output_type": "execute_result"
    }
   ],
   "source": [
    "len(probs[:, 1])"
   ]
  },
  {
   "cell_type": "code",
   "execution_count": 49,
   "metadata": {},
   "outputs": [
    {
     "data": {
      "text/plain": [
       "0.6274645864556879"
      ]
     },
     "execution_count": 49,
     "metadata": {},
     "output_type": "execute_result"
    }
   ],
   "source": [
    "fpr, tpr, thresholds = roc_curve(y_val, probs[:, 1])\n",
    "roc_auc_score(y_val, probs[:, 1])"
   ]
  },
  {
   "cell_type": "code",
   "execution_count": null,
   "metadata": {},
   "outputs": [],
   "source": []
  }
 ],
 "metadata": {
  "kernelspec": {
   "display_name": "Python 3",
   "language": "python",
   "name": "python3"
  },
  "language_info": {
   "codemirror_mode": {
    "name": "ipython",
    "version": 3
   },
   "file_extension": ".py",
   "mimetype": "text/x-python",
   "name": "python",
   "nbconvert_exporter": "python",
   "pygments_lexer": "ipython3",
   "version": "3.8.7"
  }
 },
 "nbformat": 4,
 "nbformat_minor": 4
}
