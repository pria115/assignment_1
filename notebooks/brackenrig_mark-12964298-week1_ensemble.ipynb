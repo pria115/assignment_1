{
 "cells": [
  {
   "cell_type": "markdown",
   "id": "tribal-marble",
   "metadata": {},
   "source": [
    "## Set up\n",
    "\n",
    "Install required packages and load relevant data. Ensure you adjust to add relevant classifiers."
   ]
  },
  {
   "cell_type": "code",
   "execution_count": 48,
   "id": "initial-vision",
   "metadata": {},
   "outputs": [],
   "source": [
    "import pandas as pd\n",
    "import numpy as np\n",
    "from pathlib import Path\n",
    "from scipy import stats\n",
    "from joblib import dump\n",
    "## import required classifiers, preprocessing, etc.\n",
    "from sklearn.preprocessing import StandardScaler, Normalizer, MinMaxScaler\n",
    "from sklearn.model_selection import train_test_split\n",
    "from sklearn.model_selection import RandomizedSearchCV\n",
    "from sklearn.pipeline import Pipeline\n",
    "from sklearn.ensemble import RandomForestClassifier, GradientBoostingClassifier, VotingClassifier, StackingClassifier\n",
    "from sklearn.neighbors import KNeighborsClassifier\n",
    "from sklearn.decomposition import PCA\n",
    "from sklearn.calibration import CalibratedClassifierCV\n",
    "from sklearn.linear_model import LogisticRegression\n",
    "# Add additional as required\n",
    "\n",
    "\n",
    "# import custom files\n",
    "from src.data import make_dataset\n",
    "from src.data import submit_predictions\n",
    "from src.visualization import visualize\n",
    "#import misc visualisation and EDA packages\n",
    "from pandas_profiling import ProfileReport\n",
    "import matplotlib.pyplot as plt\n",
    "from  matplotlib.ticker import FuncFormatter\n",
    "import seaborn as sns"
   ]
  },
  {
   "cell_type": "markdown",
   "id": "better-lighter",
   "metadata": {},
   "source": [
    "### Set Directory paths"
   ]
  },
  {
   "cell_type": "code",
   "execution_count": 49,
   "id": "behind-friendly",
   "metadata": {},
   "outputs": [],
   "source": [
    "project_dir = Path.cwd().parent\n",
    "report_dir = project_dir / 'reports'\n",
    "data_dir = project_dir / 'data'\n",
    "raw_data_dir = data_dir / 'raw'\n",
    "interim_data_dir = data_dir / 'interim'\n",
    "processed_data_dir = data_dir / 'processed'\n",
    "models_dir = project_dir / 'models'"
   ]
  },
  {
   "cell_type": "markdown",
   "id": "chronic-president",
   "metadata": {},
   "source": [
    "## Download and Prepare Data"
   ]
  },
  {
   "cell_type": "markdown",
   "id": "confirmed-grenada",
   "metadata": {},
   "source": [
    "The `make_dataset.download_data` function retrieves the data directly from the kaggle API, unzips the files and saves them into the raw data directory."
   ]
  },
  {
   "cell_type": "code",
   "execution_count": 50,
   "id": "gorgeous-patrick",
   "metadata": {},
   "outputs": [],
   "source": [
    "competition = 'uts-advdsi-nba-career-prediction'\n",
    "make_dataset.download_data(competition=competition,\n",
    "                           path=raw_data_dir,\n",
    "                           unzip=True)"
   ]
  },
  {
   "cell_type": "code",
   "execution_count": 51,
   "id": "eleven-placement",
   "metadata": {},
   "outputs": [],
   "source": [
    "df_train = pd.read_csv(raw_data_dir / 'train.csv')\n"
   ]
  },
  {
   "cell_type": "code",
   "execution_count": 52,
   "id": "respected-column",
   "metadata": {},
   "outputs": [],
   "source": [
    "X_test = pd.read_csv(raw_data_dir / 'test.csv')"
   ]
  },
  {
   "cell_type": "code",
   "execution_count": 53,
   "id": "promising-collective",
   "metadata": {},
   "outputs": [],
   "source": [
    "df_train.drop(columns=['Id_old', 'Id'], inplace=True)\n",
    "X_test.drop(columns=['Id_old'], inplace=True)\n",
    "test_id = X_test.pop('Id')"
   ]
  },
  {
   "cell_type": "markdown",
   "id": "sustainable-serbia",
   "metadata": {},
   "source": [
    "## Split into Training and Validation Set"
   ]
  },
  {
   "cell_type": "code",
   "execution_count": 69,
   "id": "million-postcard",
   "metadata": {},
   "outputs": [],
   "source": [
    "target = 'TARGET_5Yrs'\n",
    "X, y = make_dataset.separate_target(df_train, target=target)\n",
    "X_train, X_val, y_train, y_val = train_test_split(X, y,\n",
    "                                                  test_size=0.1,\n",
    "                                                  random_state=42)"
   ]
  },
  {
   "cell_type": "markdown",
   "id": "finnish-tissue",
   "metadata": {},
   "source": [
    "## Modelling\n",
    "\n",
    "For this experiment, I will be ensembling a linear model and a random forest classifier."
   ]
  },
  {
   "cell_type": "markdown",
   "id": "alpha-asbestos",
   "metadata": {},
   "source": [
    "## Linear Regression"
   ]
  },
  {
   "cell_type": "code",
   "execution_count": 70,
   "id": "blank-product",
   "metadata": {},
   "outputs": [
    {
     "data": {
      "text/plain": [
       "Pipeline(steps=[('scaler', StandardScaler()), ('pca', PCA()),\n",
       "                ('classifier', LogisticRegression(max_iter=10000))])"
      ]
     },
     "execution_count": 70,
     "metadata": {},
     "output_type": "execute_result"
    }
   ],
   "source": [
    "lr_pipe = Pipeline([ ('scaler', StandardScaler()),\n",
    "                 ('pca', PCA()),\n",
    "        ('classifier',   LogisticRegression(max_iter = 10000))])\n",
    "                    \n",
    "lr_pipe.fit(X_train,y_train)\n"
   ]
  },
  {
   "cell_type": "code",
   "execution_count": 71,
   "id": "governmental-leisure",
   "metadata": {},
   "outputs": [
    {
     "name": "stdout",
     "output_type": "stream",
     "text": [
      " class 1 :  684\n",
      " class 0 :  116\n",
      "Confusion Matrix: \n",
      " [[  2 114]\n",
      " [  1 683]]\n",
      "Accuracy:  0.85625\n",
      "AUC:  0.7273643879814478\n",
      "              precision    recall  f1-score   support\n",
      "\n",
      "           0       0.67      0.02      0.03       116\n",
      "           1       0.86      1.00      0.92       684\n",
      "\n",
      "    accuracy                           0.86       800\n",
      "   macro avg       0.76      0.51      0.48       800\n",
      "weighted avg       0.83      0.86      0.79       800\n",
      "\n"
     ]
    },
    {
     "data": {
      "image/png": "[encoded data removed]",
      "text/plain": [
       "<Figure size 432x288 with 1 Axes>"
      ]
     },
     "metadata": {
      "needs_background": "light"
     },
     "output_type": "display_data"
    }
   ],
   "source": [
    "visualize.classification_reports(lr_pipe,X_val,y_val)"
   ]
  },
  {
   "cell_type": "markdown",
   "id": "bibliographic-masters",
   "metadata": {},
   "source": [
    "## Random Forest"
   ]
  },
  {
   "cell_type": "code",
   "execution_count": 72,
   "id": "solid-shelf",
   "metadata": {},
   "outputs": [
    {
     "data": {
      "text/plain": [
       "Pipeline(steps=[('classifier',\n",
       "                 RandomForestClassifier(class_weight='balanced', max_depth=3,\n",
       "                                        max_features='log2', n_estimators=1000,\n",
       "                                        oob_score=True))])"
      ]
     },
     "execution_count": 72,
     "metadata": {},
     "output_type": "execute_result"
    }
   ],
   "source": [
    "rf_pipe = Pipeline([\n",
    "        ('classifier', RandomForestClassifier(oob_score = True, n_estimators = 1000, max_depth = 3,max_features = 'log2',class_weight = 'balanced'))\n",
    "\n",
    "])\n",
    "rf_pipe.fit(X_train,y_train)"
   ]
  },
  {
   "cell_type": "code",
   "execution_count": 73,
   "id": "molecular-approval",
   "metadata": {},
   "outputs": [
    {
     "name": "stdout",
     "output_type": "stream",
     "text": [
      " class 1 :  684\n",
      " class 0 :  116\n",
      "Confusion Matrix: \n",
      " [[ 86  30]\n",
      " [239 445]]\n",
      "Accuracy:  0.66375\n",
      "AUC:  0.7232304900181488\n",
      "              precision    recall  f1-score   support\n",
      "\n",
      "           0       0.26      0.74      0.39       116\n",
      "           1       0.94      0.65      0.77       684\n",
      "\n",
      "    accuracy                           0.66       800\n",
      "   macro avg       0.60      0.70      0.58       800\n",
      "weighted avg       0.84      0.66      0.71       800\n",
      "\n"
     ]
    },
    {
     "data": {
      "image/png": "[encoded data removed]",
      "text/plain": [
       "<Figure size 432x288 with 1 Axes>"
      ]
     },
     "metadata": {
      "needs_background": "light"
     },
     "output_type": "display_data"
    }
   ],
   "source": [
    "visualize.classification_reports(rf_pipe,X_val,y_val)"
   ]
  },
  {
   "cell_type": "markdown",
   "id": "radical-button",
   "metadata": {},
   "source": [
    "## Create Voting Classifier"
   ]
  },
  {
   "cell_type": "code",
   "execution_count": 74,
   "id": "married-philip",
   "metadata": {},
   "outputs": [],
   "source": [
    "rf_pipe = Pipeline([\n",
    "        ('classifier', RandomForestClassifier(oob_score = True))\n",
    "])\n",
    "\n",
    "\n",
    "lr_pipe = Pipeline([ ('scaler', StandardScaler()),\n",
    "                 ('pca', PCA()),\n",
    "        ('classifier',   LogisticRegression(max_iter = 10000))\n",
    "])\n",
    "\n",
    "\n",
    "voter = VotingClassifier(estimators = [('rf',rf_pipe),('lr',lr_pipe)], voting = 'soft', weights = [3,1])\n",
    "\n",
    "param_dist = {\n",
    "    'lr__classifier__penalty': ['l2'],\n",
    "    'rf__classifier__n_estimators': [1000],\n",
    "    'rf__classifier__max_depth': [3],\n",
    "    'rf__classifier__max_features': ['log2'],\n",
    "    'rf__classifier__class_weight': ['balanced']\n",
    "}\n",
    "\n",
    "cv = RandomizedSearchCV(\n",
    "    estimator=voter,\n",
    "    param_distributions=param_dist,\n",
    "    random_state=1,\n",
    "    n_iter=1,\n",
    "    cv=10,\n",
    "    n_jobs=-1,\n",
    "    verbose=10\n",
    ")\n",
    "\n",
    "\n"
   ]
  },
  {
   "cell_type": "code",
   "execution_count": 75,
   "id": "packed-fancy",
   "metadata": {},
   "outputs": [
    {
     "name": "stdout",
     "output_type": "stream",
     "text": [
      "Fitting 10 folds for each of 1 candidates, totalling 10 fits\n"
     ]
    },
    {
     "data": {
      "text/plain": [
       "RandomizedSearchCV(cv=10,\n",
       "                   estimator=VotingClassifier(estimators=[('rf',\n",
       "                                                           Pipeline(steps=[('classifier',\n",
       "                                                                            RandomForestClassifier(oob_score=True))])),\n",
       "                                                          ('lr',\n",
       "                                                           Pipeline(steps=[('scaler',\n",
       "                                                                            StandardScaler()),\n",
       "                                                                           ('pca',\n",
       "                                                                            PCA()),\n",
       "                                                                           ('classifier',\n",
       "                                                                            LogisticRegression(max_iter=10000))]))],\n",
       "                                              voting='soft', weights=[3, 1]),\n",
       "                   n_iter=1, n_jobs=-1,\n",
       "                   param_distributions={'lr__classifier__penalty': ['l2'],\n",
       "                                        'rf__classifier__class_weight': ['balanced'],\n",
       "                                        'rf__classifier__max_depth': [3],\n",
       "                                        'rf__classifier__max_features': ['log2'],\n",
       "                                        'rf__classifier__n_estimators': [1000]},\n",
       "                   random_state=1, verbose=10)"
      ]
     },
     "execution_count": 75,
     "metadata": {},
     "output_type": "execute_result"
    }
   ],
   "source": [
    "cv.fit(X_train,y_train)"
   ]
  },
  {
   "cell_type": "markdown",
   "id": "bearing-hunter",
   "metadata": {},
   "source": [
    "### Inspect Results"
   ]
  },
  {
   "cell_type": "code",
   "execution_count": 76,
   "id": "reserved-florence",
   "metadata": {},
   "outputs": [
    {
     "name": "stdout",
     "output_type": "stream",
     "text": [
      " class 1 :  684\n",
      " class 0 :  116\n",
      "Confusion Matrix: \n",
      " [[ 52  64]\n",
      " [102 582]]\n",
      "Accuracy:  0.7925\n",
      "AUC:  0.7281583988707401\n",
      "              precision    recall  f1-score   support\n",
      "\n",
      "           0       0.34      0.45      0.39       116\n",
      "           1       0.90      0.85      0.88       684\n",
      "\n",
      "    accuracy                           0.79       800\n",
      "   macro avg       0.62      0.65      0.63       800\n",
      "weighted avg       0.82      0.79      0.80       800\n",
      "\n"
     ]
    },
    {
     "data": {
      "image/png": "[encoded data removed]",
      "text/plain": [
       "<Figure size 432x288 with 1 Axes>"
      ]
     },
     "metadata": {
      "needs_background": "light"
     },
     "output_type": "display_data"
    }
   ],
   "source": [
    "visualize.classification_reports(cv,X_val,y_val)"
   ]
  },
  {
   "cell_type": "code",
   "execution_count": null,
   "id": "documentary-switzerland",
   "metadata": {},
   "outputs": [],
   "source": []
  },
  {
   "cell_type": "markdown",
   "id": "common-director",
   "metadata": {},
   "source": [
    "## Submit Predictions"
   ]
  },
  {
   "cell_type": "code",
   "execution_count": 15,
   "id": "aquatic-thanksgiving",
   "metadata": {},
   "outputs": [
    {
     "name": "stdout",
     "output_type": "stream",
     "text": [
      "Success! User is Authenticated\n"
     ]
    },
    {
     "name": "stderr",
     "output_type": "stream",
     "text": [
      "100%|██████████| 87.5k/87.5k [00:09<00:00, 9.11kB/s]\n"
     ]
    },
    {
     "data": {
      "text/html": [
       "<div>\n",
       "<style scoped>\n",
       "    .dataframe tbody tr th:only-of-type {\n",
       "        vertical-align: middle;\n",
       "    }\n",
       "\n",
       "    .dataframe tbody tr th {\n",
       "        vertical-align: top;\n",
       "    }\n",
       "\n",
       "    .dataframe thead th {\n",
       "        text-align: right;\n",
       "    }\n",
       "</style>\n",
       "<table border=\"1\" class=\"dataframe\">\n",
       "  <thead>\n",
       "    <tr style=\"text-align: right;\">\n",
       "      <th></th>\n",
       "      <th>id</th>\n",
       "      <th>TARGET_5Yrs</th>\n",
       "    </tr>\n",
       "  </thead>\n",
       "  <tbody>\n",
       "    <tr>\n",
       "      <th>0</th>\n",
       "      <td>0</td>\n",
       "      <td>0.779642</td>\n",
       "    </tr>\n",
       "    <tr>\n",
       "      <th>1</th>\n",
       "      <td>1</td>\n",
       "      <td>0.782709</td>\n",
       "    </tr>\n",
       "    <tr>\n",
       "      <th>2</th>\n",
       "      <td>2</td>\n",
       "      <td>0.927070</td>\n",
       "    </tr>\n",
       "    <tr>\n",
       "      <th>3</th>\n",
       "      <td>3</td>\n",
       "      <td>0.939420</td>\n",
       "    </tr>\n",
       "    <tr>\n",
       "      <th>4</th>\n",
       "      <td>4</td>\n",
       "      <td>0.778216</td>\n",
       "    </tr>\n",
       "    <tr>\n",
       "      <th>...</th>\n",
       "      <td>...</td>\n",
       "      <td>...</td>\n",
       "    </tr>\n",
       "    <tr>\n",
       "      <th>3794</th>\n",
       "      <td>3794</td>\n",
       "      <td>0.932536</td>\n",
       "    </tr>\n",
       "    <tr>\n",
       "      <th>3795</th>\n",
       "      <td>3795</td>\n",
       "      <td>0.848801</td>\n",
       "    </tr>\n",
       "    <tr>\n",
       "      <th>3796</th>\n",
       "      <td>3796</td>\n",
       "      <td>0.749435</td>\n",
       "    </tr>\n",
       "    <tr>\n",
       "      <th>3797</th>\n",
       "      <td>3797</td>\n",
       "      <td>0.930695</td>\n",
       "    </tr>\n",
       "    <tr>\n",
       "      <th>3798</th>\n",
       "      <td>3798</td>\n",
       "      <td>0.816483</td>\n",
       "    </tr>\n",
       "  </tbody>\n",
       "</table>\n",
       "<p>3799 rows × 2 columns</p>\n",
       "</div>"
      ],
      "text/plain": [
       "        id  TARGET_5Yrs\n",
       "0        0     0.779642\n",
       "1        1     0.782709\n",
       "2        2     0.927070\n",
       "3        3     0.939420\n",
       "4        4     0.778216\n",
       "...    ...          ...\n",
       "3794  3794     0.932536\n",
       "3795  3795     0.848801\n",
       "3796  3796     0.749435\n",
       "3797  3797     0.930695\n",
       "3798  3798     0.816483\n",
       "\n",
       "[3799 rows x 2 columns]"
      ]
     },
     "execution_count": 15,
     "metadata": {},
     "output_type": "execute_result"
    }
   ],
   "source": [
    "submit_predictions.submit_predictions(cv, X_test, test_id,\"12964298 week 1 submission\")"
   ]
  },
  {
   "cell_type": "code",
   "execution_count": null,
   "id": "written-voice",
   "metadata": {},
   "outputs": [],
   "source": []
  }
 ],
 "metadata": {
  "kernelspec": {
   "display_name": "Python 3",
   "language": "python",
   "name": "python3"
  },
  "language_info": {
   "codemirror_mode": {
    "name": "ipython",
    "version": 3
   },
   "file_extension": ".py",
   "mimetype": "text/x-python",
   "name": "python",
   "nbconvert_exporter": "python",
   "pygments_lexer": "ipython3",
   "version": "3.7.3"
  }
 },
 "nbformat": 4,
 "nbformat_minor": 5
}
